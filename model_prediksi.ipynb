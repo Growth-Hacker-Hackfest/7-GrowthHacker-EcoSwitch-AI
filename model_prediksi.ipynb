{
  "cells": [
    {
      "cell_type": "markdown",
      "metadata": {
        "id": "JM8Sv8Tcn8SM"
      },
      "source": [
        "# Model Class"
      ]
    },
    {
      "cell_type": "code",
      "execution_count": 1,
      "metadata": {
        "id": "uzeJEOzPlLeB"
      },
      "outputs": [],
      "source": [
        "class CarbonFootprintPredictor:\n",
        "    def __init__(self):\n",
        "        self.params = {\n",
        "            'carbon_pijar': 0.02150,\n",
        "            'carbon_neon': 0.00540,\n",
        "            'carbon_led': 0.00240,\n",
        "            'carbon_ac_non_inverter': 0.10396,\n",
        "            'carbon_kulkas_inverter': 0.06500,\n",
        "            'carbon_kulkas_non_inverter': 0.06600\n",
        "        }\n",
        "\n",
        "    def electric(self, kulkas_inverter, kulkas_num, kulkas_consume_hour, kulkas_power, ac_inverter, ac_num, ac_consume_hour, ac_power, lamp_type, lamp_num, lamp_consume_hour, lamp_power, others_power_total):\n",
        "        power = (kulkas_num * kulkas_consume_hour * kulkas_power) + (ac_num * ac_consume_hour * ac_power) + (lamp_num * lamp_consume_hour * lamp_power) + others_power_total\n",
        "        return power / 1000\n",
        "\n",
        "    def calculate_carbon(self, kulkas_inverter, kulkas_num, kulkas_consume_hour, kulkas_power, ac_inverter, ac_num, ac_consume_hour, ac_power, lamp_type, lamp_num, lamp_consume_hour, lamp_power,others_power_total):\n",
        "        electric_carbon = self.electric(kulkas_inverter, kulkas_num, kulkas_consume_hour, kulkas_power, ac_inverter, ac_num, ac_consume_hour, ac_power, lamp_type, lamp_num, lamp_consume_hour, lamp_power,others_power_total) * 0.0094\n",
        "\n",
        "        lamp_carbon = self.params[f'carbon_{lamp_type}'] * lamp_consume_hour * lamp_num\n",
        "\n",
        "        ac_carbon = ac_num * ac_consume_hour\n",
        "        if ac_inverter == \"belum\":\n",
        "            ac_carbon *= self.params['carbon_ac_non_inverter']\n",
        "\n",
        "        kulkas_carbon = (kulkas_num / 24) * kulkas_consume_hour\n",
        "        if kulkas_inverter == \"sudah\":\n",
        "            kulkas_carbon *= self.params['carbon_kulkas_inverter']\n",
        "        else:\n",
        "            kulkas_carbon *= self.params['carbon_kulkas_non_inverter']\n",
        "\n",
        "        carbon = electric_carbon + lamp_carbon + ac_carbon + kulkas_carbon\n",
        "        carbon *= 1000\n",
        "        return carbon / 12\n",
        "    \n",
        "    \n",
        "    def predict(self, data):\n",
        "        return self.calculate_carbon(**data)\n",
        "\n",
        "    def kwh(self, data):\n",
        "        return self.electric(**data)"
      ]
    },
    {
      "cell_type": "code",
      "execution_count": 2,
      "metadata": {
        "id": "3C3pf-ONlPib"
      },
      "outputs": [],
      "source": [
        "import joblib\n",
        "\n",
        "import joblib\n",
        "model = CarbonFootprintPredictor()\n",
        "joblib.dump(model, \"carbon.joblib\")\n",
        "\n",
        "model = CarbonFootprintPredictor()\n",
        "data = {\n",
        "    \"kulkas_inverter\": \"belum\",\n",
        "    \"kulkas_num\": 19,\n",
        "    \"kulkas_consume_hour\": 24,\n",
        "    \"kulkas_power\": 1,\n",
        "    \"ac_inverter\": \"belum\",\n",
        "    \"ac_num\": 20,\n",
        "    \"ac_consume_hour\": 1,\n",
        "    \"ac_power\":1,\n",
        "    \"lamp_type\": \"neon\",\n",
        "    \"lamp_num\": 39,\n",
        "    \"lamp_consume_hour\": 10,\n",
        "    \"lamp_power\": 1,\n",
        "    \"others_power_total\": 100\n",
        "}"
      ]
    },
    {
      "cell_type": "code",
      "execution_count": 3,
      "metadata": {
        "colab": {
          "base_uri": "https://localhost:8080/"
        },
        "id": "kJyrYQObl4nX",
        "outputId": "be6674fd-6133-4f48-a9d5-7e5b5f7e9fd7"
      },
      "outputs": [
        {
          "name": "stdout",
          "output_type": "stream",
          "text": [
            "Estimated monthly carbon footprint: 454.02 kg CO2 equivalent\n"
          ]
        }
      ],
      "source": [
        "carbon_footprint = model.predict(data)\n",
        "print(f\"Estimated monthly carbon footprint: {carbon_footprint:.2f} kg CO2 equivalent\")"
      ]
    },
    {
      "cell_type": "code",
      "execution_count": 4,
      "metadata": {
        "colab": {
          "base_uri": "https://localhost:8080/"
        },
        "id": "DBVlXuaXl7KA",
        "outputId": "d59f1656-f01b-48d1-d59b-b4f3b35720aa"
      },
      "outputs": [
        {
          "name": "stdout",
          "output_type": "stream",
          "text": [
            "Estimated monthly kwh: 0.97 kwh\n"
          ]
        }
      ],
      "source": [
        "carbon_footprint = model.kwh(data)\n",
        "print(f\"Estimated monthly kwh: {carbon_footprint:.2f} kwh\")"
      ]
    }
  ],
  "metadata": {
    "colab": {
      "provenance": []
    },
    "kernelspec": {
      "display_name": "Python 3",
      "name": "python3"
    },
    "language_info": {
      "codemirror_mode": {
        "name": "ipython",
        "version": 3
      },
      "file_extension": ".py",
      "mimetype": "text/x-python",
      "name": "python",
      "nbconvert_exporter": "python",
      "pygments_lexer": "ipython3",
      "version": "3.10.10"
    }
  },
  "nbformat": 4,
  "nbformat_minor": 0
}
