{
  "cells": [
    {
      "cell_type": "markdown",
      "metadata": {
        "id": "JM8Sv8Tcn8SM"
      },
      "source": [
        "# Model Class"
      ]
    },
    {
      "cell_type": "code",
      "execution_count": 95,
      "metadata": {
        "id": "uzeJEOzPlLeB"
      },
      "outputs": [],
      "source": [
        "class CarbonFootprintPredictor:\n",
        "    def __init__(self):\n",
        "        self.params = {\n",
        "            'carbon_pijar': 0.02150,\n",
        "            'carbon_neon': 0.00540,\n",
        "            'carbon_led': 0.00240,\n",
        "            'carbon_ac_non_inverter': 0.10396,\n",
        "            'carbon_kulkas_inverter': 0.06500,\n",
        "            'carbon_kulkas_non_inverter': 0.06600\n",
        "        }\n",
        "\n",
        "    def electric(self, daya_listrik,kulkas_inverter, kulkas_num, kulkas_consume_hour, kulkas_power, ac_inverter, ac_num, ac_consume_hour, ac_power, lamp_type, lamp_num, lamp_consume_hour, lamp_power):\n",
        "        power = (kulkas_num * kulkas_consume_hour * kulkas_power) + (ac_num * ac_consume_hour * ac_power) + (lamp_num * lamp_consume_hour * lamp_power)\n",
        "        return (power*30) / 1000\n",
        "\n",
        "    def price(self, daya_listrik,kulkas_inverter, kulkas_num, kulkas_consume_hour, kulkas_power, ac_inverter, ac_num, ac_consume_hour, ac_power, lamp_type, lamp_num, lamp_consume_hour, lamp_power):\n",
        "        power_kwh = self.electric(daya_listrik, kulkas_inverter, kulkas_num, kulkas_consume_hour, kulkas_power, ac_inverter, ac_num, ac_consume_hour, ac_power, lamp_type, lamp_num, lamp_consume_hour, lamp_power)\n",
        "\n",
        "        if (daya_listrik == 450):\n",
        "            power_kwh *= 415\n",
        "        elif (daya_listrik == 900):\n",
        "            power_kwh *= 1352\n",
        "        elif (daya_listrik == 1300):\n",
        "            power_kwh *= 1444\n",
        "        elif (daya_listrik == 2200):\n",
        "            power_kwh *= 1444\n",
        "        else:\n",
        "            power_kwh *= 1699\n",
        "        \n",
        "        return power_kwh\n",
        "\n",
        "    def calculate_carbon(self, daya_listrik, kulkas_inverter, kulkas_num, kulkas_consume_hour, kulkas_power, ac_inverter, ac_num, ac_consume_hour, ac_power, lamp_type, lamp_num, lamp_consume_hour, lamp_power):\n",
        "        electric_carbon = self.electric(daya_listrik, kulkas_inverter, kulkas_num, kulkas_consume_hour, kulkas_power, ac_inverter, ac_num, ac_consume_hour, ac_power, lamp_type, lamp_num, lamp_consume_hour, lamp_power) * 0.0094\n",
        "\n",
        "        lamp_carbon = self.params[f'carbon_{lamp_type}'] * lamp_consume_hour * lamp_num\n",
        "\n",
        "        ac_carbon = ac_num * ac_consume_hour\n",
        "        if ac_inverter == \"belum\":\n",
        "            ac_carbon *= self.params['carbon_ac_non_inverter']\n",
        "\n",
        "        kulkas_carbon = (kulkas_num / 24) * kulkas_consume_hour\n",
        "        if kulkas_inverter == \"sudah\":\n",
        "            kulkas_carbon *= self.params['carbon_kulkas_inverter']\n",
        "        else:\n",
        "            kulkas_carbon *= self.params['carbon_kulkas_non_inverter']\n",
        "\n",
        "        carbon = electric_carbon + lamp_carbon + ac_carbon + kulkas_carbon\n",
        "        carbon *= 1000\n",
        "        rounded_carbon_percentage = round((carbon / 12), 2)\n",
        "        return rounded_carbon_percentage\n",
        "    \n",
        "    def predict_co2(self, data):\n",
        "        return self.calculate_carbon(**data)\n",
        "    def predict_kwh(self, data):\n",
        "        return self.electric(**data)\n",
        "    def predict_price(self, data):\n",
        "        return self.price(**data)"
      ]
    },
    {
      "cell_type": "code",
      "execution_count": 93,
      "metadata": {},
      "outputs": [
        {
          "data": {
            "text/plain": [
              "['ModelPrediksi.joblib']"
            ]
          },
          "execution_count": 93,
          "metadata": {},
          "output_type": "execute_result"
        }
      ],
      "source": [
        "import joblib\n",
        "model = CarbonFootprintPredictor()\n",
        "joblib.dump(model, \"ModelPrediksi.joblib\")"
      ]
    },
    {
      "cell_type": "code",
      "execution_count": 22,
      "metadata": {
        "colab": {
          "base_uri": "https://localhost:8080/"
        },
        "id": "kJyrYQObl4nX",
        "outputId": "be6674fd-6133-4f48-a9d5-7e5b5f7e9fd7"
      },
      "outputs": [
        {
          "name": "stdout",
          "output_type": "stream",
          "text": [
            "Estimated monthly carbon footprint: 464.02 kg CO2 equivalent\n"
          ]
        }
      ],
      "source": [
        "cf = model.predict_co2(data.iloc[0])\n",
        "print(f\"Estimated monthly carbon footprint: {cf} kg CO2 equivalent\")"
      ]
    },
    {
      "cell_type": "code",
      "execution_count": 23,
      "metadata": {
        "colab": {
          "base_uri": "https://localhost:8080/"
        },
        "id": "DBVlXuaXl7KA",
        "outputId": "d59f1656-f01b-48d1-d59b-b4f3b35720aa"
      },
      "outputs": [
        {
          "name": "stdout",
          "output_type": "stream",
          "text": [
            "Estimated monthly kwh: 24.84 kwh\n"
          ]
        }
      ],
      "source": [
        "kwh = model.predict_kwh(data.iloc[0])\n",
        "print(f\"Estimated monthly kwh: {kwh} kwh\")"
      ]
    },
    {
      "cell_type": "code",
      "execution_count": 65,
      "metadata": {},
      "outputs": [
        {
          "name": "stdout",
          "output_type": "stream",
          "text": [
            "Estimated monthly price: 10308.6\n"
          ]
        }
      ],
      "source": [
        "prc = model.predict_price(data.iloc[0])\n",
        "print(f\"Estimated monthly price: {prc}\")"
      ]
    }
  ],
  "metadata": {
    "colab": {
      "provenance": []
    },
    "kernelspec": {
      "display_name": "Python 3",
      "name": "python3"
    },
    "language_info": {
      "codemirror_mode": {
        "name": "ipython",
        "version": 3
      },
      "file_extension": ".py",
      "mimetype": "text/x-python",
      "name": "python",
      "nbconvert_exporter": "python",
      "pygments_lexer": "ipython3",
      "version": "3.10.10"
    }
  },
  "nbformat": 4,
  "nbformat_minor": 0
}
